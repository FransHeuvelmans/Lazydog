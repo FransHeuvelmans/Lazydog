{
 "cells": [
  {
   "cell_type": "markdown",
   "id": "a035b3de-e112-4dcf-98ab-67f28c1b4c0b",
   "metadata": {},
   "source": [
    "# Daily statistics on health\n",
    "Basic health statistics over time.\n",
    "\n",
    "To use: first set the path to the output sqlite db and then run all cells until the graphs are rendered\n",
    "\n",
    "## Part 1: Weight"
   ]
  },
  {
   "cell_type": "code",
   "execution_count": null,
   "id": "17e11403-5a7f-4f6b-b5ae-5b85448c5758",
   "metadata": {},
   "outputs": [],
   "source": [
    "%matplotlib inline\n",
    "import sqlite3\n",
    "import pandas as pd\n",
    "from pandas.api.types import CategoricalDtype\n",
    "import numpy as np\n",
    "import scipy\n",
    "PATH_TO_OUT_DB = \"/home/frans/Code/LazyDog/transform_dbs/schema_dev/main_out.db\"\n",
    "\n",
    "cnx = sqlite3.connect(PATH_TO_OUT_DB)\n",
    "weight_df = pd.read_sql_query(\n",
    "    sql=\"SELECT ROWID, * FROM lzd_weight\",\n",
    "    con=cnx,\n",
    "    index_col=\"rowid\",\n",
    "    dtype={\n",
    "        'dt': pd.StringDtype(),\n",
    "        'weight_kg': np.float64,\n",
    "        'src': CategoricalDtype()\n",
    "    }\n",
    ")"
   ]
  },
  {
   "cell_type": "code",
   "execution_count": null,
   "id": "84027b29-9e0a-44b9-9332-5d4e44bea0c8",
   "metadata": {},
   "outputs": [],
   "source": [
    "weight_df['dt'] = pd.to_datetime(weight_df['dt'], utc=True)\n",
    "print(weight_df.count())\n",
    "print(weight_df.head())\n",
    "print(weight_df.dtypes)\n",
    "weight_df.describe(include='all')"
   ]
  },
  {
   "cell_type": "code",
   "execution_count": null,
   "id": "0a4ffee2-e919-4156-bc41-5f2c59d2c778",
   "metadata": {},
   "outputs": [],
   "source": [
    "import matplotlib.pyplot as plt\n",
    "plt.close(\"all\")\n",
    "plt.figure()\n",
    "weight_df.plot(x=\"dt\", y=\"weight_kg\", figsize=(25,10));"
   ]
  },
  {
   "cell_type": "markdown",
   "id": "c01403a8-2a02-42e9-8a05-1d6d42923cab",
   "metadata": {},
   "source": [
    "## Part 2: Steps"
   ]
  },
  {
   "cell_type": "code",
   "execution_count": null,
   "id": "eb11ce63-1ac5-435c-8274-19bab719c0ff",
   "metadata": {},
   "outputs": [],
   "source": [
    "steps_df = pd.read_sql_query(\n",
    "    sql=\"SELECT ROWID, * FROM lzd_daily_steps\",\n",
    "    con=cnx,\n",
    "    index_col=\"rowid\",\n",
    "    dtype={\n",
    "        'day_date': pd.StringDtype(),\n",
    "        'step_count': np.int64,\n",
    "        'src': CategoricalDtype()\n",
    "    }\n",
    ")\n",
    "print(steps_df.count())"
   ]
  },
  {
   "cell_type": "code",
   "execution_count": null,
   "id": "48853484-9854-4186-812a-c85b5a0e7d8d",
   "metadata": {},
   "outputs": [],
   "source": [
    "steps_df['day_date'] = pd.to_datetime(steps_df['day_date'])\n",
    "print(steps_df.head())\n",
    "print(steps_df.dtypes)\n",
    "steps_df.describe(include='all')"
   ]
  },
  {
   "cell_type": "code",
   "execution_count": null,
   "id": "b3ca39db-5830-44b8-971a-d206b88411d6",
   "metadata": {},
   "outputs": [],
   "source": [
    "import matplotlib.pyplot as plt\n",
    "plt.close(\"all\")\n",
    "plt.figure(figsize=(25,10))\n",
    "color_map = {'gfit': 'pink', 'healthkit': 'green', 'paseo': 'blue'}\n",
    "\n",
    "for source, group_df in steps_df.groupby('src', observed=True):\n",
    "   plt.plot(group_df['day_date'], group_df['step_count'], color=color_map[source])\n",
    "plt.show()"
   ]
  },
  {
   "cell_type": "code",
   "execution_count": null,
   "id": "a08c2be5-26f4-4c46-9bbe-5cbbe2f68c0e",
   "metadata": {},
   "outputs": [],
   "source": [
    "# Recent paseo steps\n",
    "paseo_df = steps_df[steps_df['src'] == 'paseo']\n",
    "paseo_df.plot(x=\"day_date\", y=\"step_count\", figsize=(25,10));"
   ]
  }
 ],
 "metadata": {
  "kernelspec": {
   "display_name": "Python 3 (ipykernel)",
   "language": "python",
   "name": "python3"
  },
  "language_info": {
   "codemirror_mode": {
    "name": "ipython",
    "version": 3
   },
   "file_extension": ".py",
   "mimetype": "text/x-python",
   "name": "python",
   "nbconvert_exporter": "python",
   "pygments_lexer": "ipython3",
   "version": "3.11.6"
  }
 },
 "nbformat": 4,
 "nbformat_minor": 5
}
